{
 "cells": [
  {
   "cell_type": "markdown",
   "metadata": {},
   "source": [
    "#Problema 1"
   ]
  },
  {
   "cell_type": "code",
   "execution_count": 2,
   "metadata": {},
   "outputs": [
    {
     "name": "stdout",
     "output_type": "stream",
     "text": [
      "Warning\n"
     ]
    }
   ],
   "source": [
    "velocidad= 49\n",
    "if velocidad>=25:\n",
    "    print(\"Warning\")\n",
    "else: \n",
    "    print(\"Todo bien\")"
   ]
  },
  {
   "cell_type": "markdown",
   "metadata": {},
   "source": [
    "#Problema 2"
   ]
  },
  {
   "cell_type": "code",
   "execution_count": null,
   "metadata": {},
   "outputs": [],
   "source": [
    "asteroide=19\n",
    "if asteroide==20:\n",
    "    print(\"se ve el rayo\")\t\n",
    "elif asteroide>20:\n",
    "    print(\"se ve el rayo\")\n",
    "else:\n",
    "    print(\"No se ve el rayo\")"
   ]
  },
  {
   "cell_type": "markdown",
   "metadata": {},
   "source": [
    "#Problema 3"
   ]
  },
  {
   "cell_type": "code",
   "execution_count": null,
   "metadata": {},
   "outputs": [],
   "source": [
    "vel=25\n",
    "tam=40\n",
    "if vel>=25 or tam>=25:\n",
    "    print(\"Warning\")\n",
    "elif vel>=20 and vel<=25:\n",
    "    print('genera un rayo de luz')\n",
    "else:\n",
    "    print(\"Todo bien\")"
   ]
  }
 ],
 "metadata": {
  "interpreter": {
   "hash": "63fd5069d213b44bf678585dea6b12cceca9941eaf7f819626cde1f2670de90d"
  },
  "kernelspec": {
   "display_name": "Python 3.9.1 64-bit",
   "language": "python",
   "name": "python3"
  },
  "language_info": {
   "codemirror_mode": {
    "name": "ipython",
    "version": 3
   },
   "file_extension": ".py",
   "mimetype": "text/x-python",
   "name": "python",
   "nbconvert_exporter": "python",
   "pygments_lexer": "ipython3",
   "version": "3.9.1"
  },
  "orig_nbformat": 4
 },
 "nbformat": 4,
 "nbformat_minor": 2
}

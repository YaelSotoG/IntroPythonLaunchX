{
 "cells": [
  {
   "cell_type": "markdown",
   "metadata": {},
   "source": [
    "#Ejercicio 1"
   ]
  },
  {
   "cell_type": "code",
   "execution_count": 6,
   "metadata": {},
   "outputs": [
    {
     "name": "stdout",
     "output_type": "stream",
     "text": [
      " \n",
      "On average, the Moon moves 4cm away from the Earth every year\n",
      " The highest daylight temperature of the Moon is 127 C\n",
      " \n",
      "On average, the Moon moves 4cm away from the Earth every year\n",
      " The highest daylight temperature of the Moon is 127 celsius\n"
     ]
    }
   ],
   "source": [
    "text = \"\"\"Interesting facts about the Moon. The Moon is Earth's only satellite. There are several interesting facts about the Moon and how it affects life here on Earth. \n",
    "On average, the Moon moves 4cm away from the Earth every year. This yearly drift is not significant enough to cause immediate effects on Earth. The highest daylight temperature of the Moon is 127 C.\"\"\"\n",
    "\n",
    "text.split('.')\n",
    "\n",
    "clave=['average','distance','temperature']\n",
    "\n",
    "for i in text.split('.'):\n",
    "    for y in clave:\n",
    "        if y in i:\n",
    "            print(i)\n",
    "\n",
    "\n",
    "for i in text.split('.'):\n",
    "    for y in clave:\n",
    "        if y in i:\n",
    "            print(i.replace('C', 'celsius'))\n"
   ]
  },
  {
   "cell_type": "markdown",
   "metadata": {},
   "source": [
    "#Ejercicio 2"
   ]
  },
  {
   "cell_type": "code",
   "execution_count": 8,
   "metadata": {},
   "outputs": [],
   "source": [
    "# Datos con los que vas a trabajar\n",
    "name = \"Moon\"\n",
    "gravity = 0.00162 # in kms\n",
    "planet = \"Earth\"\n",
    "\n",
    "titulo=f'gravedad en {planet}'\n",
    "\n",
    "datos=f\"\"\"Nombre= {name}\n",
    "Gravedad= {gravity*1000}\n",
    "Planeta= {planet}\"\"\"\n",
    "\n",
    "union=f\"{titulo} \\n {datos}\"\n",
    "print(union)\n"
   ]
  },
  {
   "cell_type": "code",
   "execution_count": 11,
   "metadata": {},
   "outputs": [
    {
     "name": "stdout",
     "output_type": "stream",
     "text": [
      "gravedad en Marte  \n",
      " Nombre= Ganímedes\n",
      "Gravedad= 1.4300000000000002 m\n",
      "Planeta= Marte \n",
      "nombre=Ganímedes\n",
      "gravedad=0.00143m\n",
      "planeta=Marte  \n",
      "nombre=Ganímedes\n",
      "gravedad=1.4300000000000002 m\n",
      "planeta=Marte  \n"
     ]
    }
   ],
   "source": [
    "#nuevos datos\n",
    "planet = 'Marte '\n",
    "gravity  = 0.00143\n",
    "name = 'Ganímedes'\n",
    "\n",
    "titulo=f'gravedad en {planet}'\n",
    "\n",
    "datos=f\"\"\"Nombre= {name}\n",
    "Gravedad= {gravity*1000} m\n",
    "Planeta= {planet}\"\"\"\n",
    "\n",
    "union=f\"{titulo} \\n {datos}\"\n",
    "print(union)\n",
    "\n",
    "print(\"\"\"nombre={nombre}\n",
    "gravedad={gravedad}m\n",
    "planeta={planeta} \"\"\".format(nombre=name,gravedad=gravity,planeta=planet))\n",
    "\n",
    "print(\"\"\"nombre={nombre}\n",
    "gravedad={gravedad} m\n",
    "planeta={planeta} \"\"\".format(nombre=name,gravedad=gravity*1000,planeta=planet))"
   ]
  }
 ],
 "metadata": {
  "interpreter": {
   "hash": "63fd5069d213b44bf678585dea6b12cceca9941eaf7f819626cde1f2670de90d"
  },
  "kernelspec": {
   "display_name": "Python 3.9.1 64-bit",
   "language": "python",
   "name": "python3"
  },
  "language_info": {
   "codemirror_mode": {
    "name": "ipython",
    "version": 3
   },
   "file_extension": ".py",
   "mimetype": "text/x-python",
   "name": "python",
   "nbconvert_exporter": "python",
   "pygments_lexer": "ipython3",
   "version": "3.9.1"
  },
  "orig_nbformat": 4
 },
 "nbformat": 4,
 "nbformat_minor": 2
}

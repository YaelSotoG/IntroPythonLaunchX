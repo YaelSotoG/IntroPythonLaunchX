{
 "cells": [
  {
   "cell_type": "markdown",
   "metadata": {},
   "source": [
    "#Ejercicio 1"
   ]
  },
  {
   "cell_type": "code",
   "execution_count": 4,
   "metadata": {},
   "outputs": [
    {
     "name": "stdout",
     "output_type": "stream",
     "text": [
      "tierra\n",
      "marte\n",
      "jupiter\n",
      "saturno\n",
      "hurano\n"
     ]
    }
   ],
   "source": [
    "i=''\n",
    "planetas=[]\n",
    "\n",
    "while i.lower() != 'done':\n",
    "    i=input('Ingrese el nombre de un planeta: ')\n",
    "    if i.lower()!='done':\n",
    "        planetas.append(i)\n",
    "    else:\n",
    "        break\n",
    "\n",
    "\n",
    "#ejercicio2\n",
    "\n",
    "for planeta in planetas:\n",
    "    print(planeta)\n"
   ]
  }
 ],
 "metadata": {
  "interpreter": {
   "hash": "63fd5069d213b44bf678585dea6b12cceca9941eaf7f819626cde1f2670de90d"
  },
  "kernelspec": {
   "display_name": "Python 3.9.1 64-bit",
   "language": "python",
   "name": "python3"
  },
  "language_info": {
   "codemirror_mode": {
    "name": "ipython",
    "version": 3
   },
   "file_extension": ".py",
   "mimetype": "text/x-python",
   "name": "python",
   "nbconvert_exporter": "python",
   "pygments_lexer": "ipython3",
   "version": "3.9.1"
  },
  "orig_nbformat": 4
 },
 "nbformat": 4,
 "nbformat_minor": 2
}

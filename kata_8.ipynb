{
 "cells": [
  {
   "cell_type": "markdown",
   "metadata": {},
   "source": [
    "#Ejercicio 1"
   ]
  },
  {
   "cell_type": "code",
   "execution_count": 11,
   "metadata": {},
   "outputs": [
    {
     "name": "stdout",
     "output_type": "stream",
     "text": [
      "planeta tierra tiene 1 lunas\n",
      "planeta tierra tiene 1233 de circunferencia\n"
     ]
    }
   ],
   "source": [
    "planetas={\n",
    "    'planeta':'tierra',\n",
    "    'lunas':1,\n",
    "}\n",
    "print('planeta '+planetas['planeta']+' tiene '+str(planetas['lunas'])+' lunas')\n",
    "\n",
    "planetas['circunferencia']={\n",
    "    'polar':1233,\n",
    "    'equatorial':1233,\n",
    "}\n",
    "\n",
    "print('planeta '+planetas['planeta']+' tiene '+str(planetas['circunferencia']['polar'])+' de circunferencia')"
   ]
  },
  {
   "cell_type": "markdown",
   "metadata": {},
   "source": [
    "#Ejercicio 2"
   ]
  },
  {
   "cell_type": "code",
   "execution_count": 13,
   "metadata": {},
   "outputs": [
    {
     "name": "stdout",
     "output_type": "stream",
     "text": [
      "dict_values([0, 0, 1, 2, 79, 82, 27, 14, 5, 2, 1, 1])\n",
      "12\n",
      "214\n",
      "17.833333333333332\n"
     ]
    }
   ],
   "source": [
    "planet_moons = {\n",
    "    'mercury': 0,\n",
    "    'venus': 0,\n",
    "    'earth': 1,\n",
    "    'mars': 2,\n",
    "    'jupiter': 79,\n",
    "    'saturn': 82,\n",
    "    'uranus': 27,\n",
    "    'neptune': 14,\n",
    "    'pluto': 5,\n",
    "    'haumea': 2,\n",
    "    'makemake': 1,\n",
    "    'eris': 1\n",
    "}\n",
    "\n",
    "lunas=planet_moons.values()\n",
    "print(str(lunas))\n",
    "\n",
    "total=len(planet_moons.keys())\n",
    "print(str(total))\n",
    "val=0\n",
    "for i in lunas:\n",
    "    val=i+val\n",
    "\n",
    "print(str(val))\n",
    "promedio= val/total\n",
    "print(str(promedio))\n"
   ]
  }
 ],
 "metadata": {
  "interpreter": {
   "hash": "63fd5069d213b44bf678585dea6b12cceca9941eaf7f819626cde1f2670de90d"
  },
  "kernelspec": {
   "display_name": "Python 3.9.1 64-bit",
   "language": "python",
   "name": "python3"
  },
  "language_info": {
   "codemirror_mode": {
    "name": "ipython",
    "version": 3
   },
   "file_extension": ".py",
   "mimetype": "text/x-python",
   "name": "python",
   "nbconvert_exporter": "python",
   "pygments_lexer": "ipython3",
   "version": "3.9.1"
  },
  "orig_nbformat": 4
 },
 "nbformat": 4,
 "nbformat_minor": 2
}

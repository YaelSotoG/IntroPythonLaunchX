{
 "cells": [
  {
   "cell_type": "markdown",
   "metadata": {},
   "source": [
    "#Ejercicio 1"
   ]
  },
  {
   "cell_type": "code",
   "execution_count": 9,
   "metadata": {},
   "outputs": [
    {
     "name": "stdout",
     "output_type": "stream",
     "text": [
      "38.333333333333336\n",
      "38.333333333333336\n",
      "38.333333333333336\n"
     ]
    }
   ],
   "source": [
    "def tanques(tanque_1, tanque_2,tanque_3):\n",
    "    return (str((tanque_1+tanque_2+tanque_3)/3))\n",
    "\n",
    "print(tanques(80,10,25))\n",
    "\n",
    "def promedio(val):\n",
    "    tank=sum(val)\n",
    "    total=len(val)\n",
    "    return (str(tank/total))\n",
    "\n",
    "print(promedio([80,10,25]))\n",
    "\n",
    "def tanques_act(tanque_1, tanque_2,tanque_3):\n",
    "    return (promedio([tanque_1, tanque_2, tanque_3]))\n",
    "\n",
    "print(tanques_act(80,10,25))"
   ]
  },
  {
   "cell_type": "markdown",
   "metadata": {},
   "source": [
    "#Ejercicio 2"
   ]
  },
  {
   "cell_type": "code",
   "execution_count": 15,
   "metadata": {},
   "outputs": [
    {
     "name": "stdout",
     "output_type": "stream",
     "text": [
      "tiempo= 20gasolina= 90destino= tlaxcala\n",
      "tiempo= 20gasolina= 90destino= tlaxcala\n"
     ]
    }
   ],
   "source": [
    "def informe(prelanzamiento, tvuelo,destino,tankext,tankint):\n",
    "    return \"tiempo= \"+str(tvuelo+prelanzamiento)+\"gasolina= \"+str(tankext+tankint)+\"destino= \"+destino\n",
    "\n",
    "print(informe(10,10,\"tlaxcala\",80,10))\n",
    "\n",
    "\n"
   ]
  },
  {
   "cell_type": "code",
   "execution_count": null,
   "metadata": {},
   "outputs": [],
   "source": [
    "def informe(destino,*tiempo,**tanque):\n",
    "    return \"tiempo= \"+str(sum(tiempo))+\"gasolina= \"+str(sum(tanque.values()))+\"destino= \"+destino\n",
    "\n",
    "print(informe(\"tlaxcala\",10,10,tank1=80,tank2=10))"
   ]
  },
  {
   "cell_type": "code",
   "execution_count": 18,
   "metadata": {},
   "outputs": [
    {
     "name": "stdout",
     "output_type": "stream",
     "text": [
      "tiempo= 20gasolina= 90destino= tlaxcala\n",
      "tank1 80\n",
      "tank2 10\n"
     ]
    }
   ],
   "source": [
    "def informe(destino,*tiempo,**tanque):\n",
    "    inf =\"tiempo= \"+str(sum(tiempo))+\"gasolina= \"+str(sum(tanque.values()))+\"destino= \"+destino\n",
    "    for tank,gal in tanque.items():\n",
    "        inf=inf+\"\\n\"+str(tank)+\" \"+str(gal)\n",
    "    return str(inf)\n",
    "\n",
    "\n",
    "print(informe(\"tlaxcala\",10,10,tank1=80,tank2=10))"
   ]
  }
 ],
 "metadata": {
  "interpreter": {
   "hash": "63fd5069d213b44bf678585dea6b12cceca9941eaf7f819626cde1f2670de90d"
  },
  "kernelspec": {
   "display_name": "Python 3.9.1 64-bit",
   "language": "python",
   "name": "python3"
  },
  "language_info": {
   "name": "python",
   "version": "3.9.1"
  },
  "orig_nbformat": 4
 },
 "nbformat": 4,
 "nbformat_minor": 2
}
